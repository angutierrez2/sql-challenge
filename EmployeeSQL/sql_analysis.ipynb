{
 "cells": [
  {
   "cell_type": "markdown",
   "id": "b0633bd2",
   "metadata": {},
   "source": [
    "## SQL Analysis"
   ]
  },
  {
   "cell_type": "markdown",
   "id": "e27c2a41",
   "metadata": {},
   "source": [
    "### From the data about people who were employed at Pewlett Hackard during the 1980s and 1990s, the findings showed that the majority of people employed in 1986 were onboarded at the beginning and end of the year. The beginning cohort were employed between January and April, and the ending cohort were employed between September and December. It was also concluded that the majority of employees working at Pewlett Hackard during the 1980s and 1990s worked in the Sales and Development departments or d007 and d005 respectively."
   ]
  }
 ],
 "metadata": {
  "kernelspec": {
   "display_name": "Python 3 (ipykernel)",
   "language": "python",
   "name": "python3"
  },
  "language_info": {
   "codemirror_mode": {
    "name": "ipython",
    "version": 3
   },
   "file_extension": ".py",
   "mimetype": "text/x-python",
   "name": "python",
   "nbconvert_exporter": "python",
   "pygments_lexer": "ipython3",
   "version": "3.11.5"
  }
 },
 "nbformat": 4,
 "nbformat_minor": 5
}
